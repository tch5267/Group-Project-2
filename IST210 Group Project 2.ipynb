{
 "cells": [
  {
   "cell_type": "markdown",
   "metadata": {},
   "source": [
    "![](https://i.imgur.com/1ojDs9r.png)"
   ]
  },
  {
   "cell_type": "markdown",
   "metadata": {},
   "source": [
    "In our project, we had five tables; VehicleID, CostID, LaneID, StatID, and TransID. The VechicleID, CostID, and TransID are all interconnected. A single car will be assigned an ID. Based upon the type of car, it will determine its cost at the toll. This cost will be listed under the transaction information, along with the particular car’s ID. The VehicleID is linked to the TransID table with an optional one to one relationship. We did this as on a given day a vehicle in our system may have one transaction, or it may have no transactions if it doesn’t go through the toll that day."
   ]
  },
  {
   "cell_type": "markdown",
   "metadata": {},
   "source": [
    "The CostID tables and TransID tables are related with a one to one relationship, as there will be on specific cost for one specific transaction. So, for example, if I drive a 2008 dodge caravan, the costID table will apply the cost for a minivan in the TransID, and the VehicleID will ensure that the transaction applied to directly to that car."
   ]
  },
  {
   "cell_type": "markdown",
   "metadata": {},
   "source": [
    " Our last two tables, LaneID and StatID, helps determine what lanes will be open on a given day. For example, if we see that 20,000 cars go though the toll on a Friday night, while only 7,000 trucks travel through, then we can make changes in regards to pricing, what lane is open for a type of vehicle, etc.  Our LaneID and StatID tables are related using a one to one relationship, as one lane will only have one set of statistics.  We also linked our LaneID and TransID tables. In our Trans table, it will identify what lane the car went through. The helps use gather more keep track of what lanes are making the most money."
   ]
  },
  {
   "cell_type": "code",
   "execution_count": null,
   "metadata": {},
   "outputs": [],
   "source": []
  }
 ],
 "metadata": {
  "kernelspec": {
   "display_name": "Python 3",
   "language": "python",
   "name": "python3"
  },
  "language_info": {
   "codemirror_mode": {
    "name": "ipython",
    "version": 3
   },
   "file_extension": ".py",
   "mimetype": "text/x-python",
   "name": "python",
   "nbconvert_exporter": "python",
   "pygments_lexer": "ipython3",
   "version": "3.7.3"
  }
 },
 "nbformat": 4,
 "nbformat_minor": 2
}
